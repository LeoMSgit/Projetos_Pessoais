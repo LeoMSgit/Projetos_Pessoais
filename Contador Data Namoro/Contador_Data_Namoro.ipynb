{
  "nbformat": 4,
  "nbformat_minor": 0,
  "metadata": {
    "colab": {
      "provenance": []
    },
    "kernelspec": {
      "name": "python3",
      "display_name": "Python 3"
    },
    "language_info": {
      "name": "python"
    }
  },
  "cells": [
    {
      "cell_type": "code",
      "execution_count": null,
      "metadata": {
        "id": "QSmCwmdY5Sm5"
      },
      "outputs": [],
      "source": []
    },
    {
      "cell_type": "code",
      "source": [
        "from datetime import datetime\n",
        "from dateutil.relativedelta import relativedelta\n",
        "\n",
        "dataInicial = datetime(2019,10,21)\n",
        "dataAtual = datetime.now()\n",
        "\n",
        "dif = relativedelta(dataAtual, dataInicial)\n",
        "\n",
        "anos = dif.years\n",
        "meses = dif.months\n",
        "dias = dif.days\n",
        "\n",
        "\n",
        "print(\"❤️  Feliz {} anos, {} meses e {} dias de namoro❤️  \".format(anos,meses,dias))"
      ],
      "metadata": {
        "colab": {
          "base_uri": "https://localhost:8080/"
        },
        "id": "DMm-OR295VMO",
        "outputId": "111a7d59-1f53-47cd-cf65-49b8e563560a"
      },
      "execution_count": 1,
      "outputs": [
        {
          "output_type": "stream",
          "name": "stdout",
          "text": [
            "❤️  Feliz 5 anos, 0 meses e 17 dias de namoro❤️  \n"
          ]
        }
      ]
    }
  ]
}