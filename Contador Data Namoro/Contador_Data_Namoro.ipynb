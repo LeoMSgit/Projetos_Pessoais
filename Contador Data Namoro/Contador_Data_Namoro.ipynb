{
  "nbformat": 4,
  "nbformat_minor": 0,
  "metadata": {
    "colab": {
      "provenance": [],
      "authorship_tag": "ABX9TyMlv+JzQ3DPSW/KuVZ3l64E",
      "include_colab_link": true
    },
    "kernelspec": {
      "name": "python3",
      "display_name": "Python 3"
    },
    "language_info": {
      "name": "python"
    }
  },
  "cells": [
    {
      "cell_type": "markdown",
      "metadata": {
        "id": "view-in-github",
        "colab_type": "text"
      },
      "source": [
        "<a href=\"https://colab.research.google.com/drive/1J1oSTz99Iap5FCwGqVkPR2yXyPKwjr69\" target=\"_parent\"><img src=\"https://colab.research.google.com/assets/colab-badge.svg\" alt=\"Open In Colab\"/></a>"
      ]
    },
    {
      "cell_type": "code",
      "source": [
        "from datetime import datetime\n",
        "from dateutil.relativedelta import relativedelta\n",
        "\n",
        "dataInicial = datetime(2019,10,21)\n",
        "dataAtual = datetime.now()\n",
        "\n",
        "dif = relativedelta(dataAtual, dataInicial)\n",
        "\n",
        "anos = dif.years\n",
        "meses = dif.months\n",
        "dias = dif.days\n",
        "\n",
        "\n",
        "print(\"❤️  Feliz {} anos, {} meses e {} dias de namoro❤️  \".format(anos,meses,dias))"
      ],
      "metadata": {
        "id": "DMm-OR295VMO"
      },
      "execution_count": null,
      "outputs": []
    }
  ]
}
